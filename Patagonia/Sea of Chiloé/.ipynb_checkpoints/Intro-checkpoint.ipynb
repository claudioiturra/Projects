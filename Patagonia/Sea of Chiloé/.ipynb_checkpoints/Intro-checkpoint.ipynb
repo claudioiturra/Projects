{
 "cells": [
  {
   "cell_type": "markdown",
   "id": "33f3a4c3-b769-4fbe-9ff4-08ee1e15fc0d",
   "metadata": {},
   "source": [
    "Offshore Sea Level Variability and Sea Surface Temperature Response in Chiloe's Interior Sea, Patagonia, Chile"
   ]
  },
  {
   "cell_type": "markdown",
   "id": "64ed807b-1966-458b-9731-b5112dfc89c7",
   "metadata": {},
   "source": [
    "Claudio Iturra & Daniel Brieva, 2023.<br /> University of Concepción, Chile."
   ]
  },
  {
   "cell_type": "code",
   "execution_count": null,
   "id": "fd081b51-4328-446d-9f2a-5477d9f56224",
   "metadata": {},
   "outputs": [],
   "source": []
  }
 ],
 "metadata": {
  "kernelspec": {
   "display_name": "Matlab",
   "language": "matlab",
   "name": "matlab"
  },
  "language_info": {
   "codemirror_mode": "octave",
   "file_extension": ".m",
   "help_links": [
    {
     "text": "MetaKernel Magics",
     "url": "https://metakernel.readthedocs.io/en/latest/source/README.html"
    }
   ],
   "mimetype": "text/x-octave",
   "name": "matlab",
   "version": "0.17.1"
  }
 },
 "nbformat": 4,
 "nbformat_minor": 5
}
